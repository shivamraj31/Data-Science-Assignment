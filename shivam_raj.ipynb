{
 "cells": [
  {
   "cell_type": "code",
   "execution_count": 1,
   "id": "3b24fc86-6bb6-4fa2-b815-fd227b625f55",
   "metadata": {},
   "outputs": [
    {
     "name": "stdout",
     "output_type": "stream",
     "text": [
      "[1, 3, 5, 7, 9, 11, 13, 15, 17, 19, 21, 23, 25]\n"
     ]
    }
   ],
   "source": [
    "#Q1. Creating a Function\n",
    "#To create a function in Python, you use the def keyword. Here’s how you can create a function to return a list of odd numbers in the range of 1 to 25:\n",
    "\n",
    "def odd_numbers():\n",
    "    return [num for num in range(1, 26) if num % 2 != 0]\n",
    "\n",
    "# Example usage\n",
    "print(odd_numbers())"
   ]
  },
  {
   "cell_type": "code",
   "execution_count": 3,
   "id": "871bdce7-29b9-417b-b326-70814f09e97c",
   "metadata": {},
   "outputs": [
    {
     "name": "stdout",
     "output_type": "stream",
     "text": [
      "1\n",
      "2\n",
      "3\n",
      "4\n",
      "name: Shivam\n",
      "age: 30\n"
     ]
    }
   ],
   "source": [
    "#2. Using *args and **kwargs\n",
    "#*args is used to pass a variable number of positional arguments to a function.\n",
    "#**kwargs is used to pass a variable number of keyword arguments.\n",
    "\n",
    "# Function using *args\n",
    "def print_args(*args):\n",
    "    for arg in args:\n",
    "        print(arg)\n",
    "\n",
    "# Function using **kwargs\n",
    "def print_kwargs(**kwargs):\n",
    "    for key, value in kwargs.items():\n",
    "        print(f\"{key}: {value}\")\n",
    "\n",
    "# Example usage\n",
    "print_args(1, 2, 3, 4)\n",
    "print_kwargs(name=\"Shivam\", age=30)"
   ]
  },
  {
   "cell_type": "code",
   "execution_count": 6,
   "id": "f015ee3d-6429-40ef-b967-b363c637a16d",
   "metadata": {},
   "outputs": [
    {
     "name": "stdout",
     "output_type": "stream",
     "text": [
      "2\n",
      "4\n",
      "6\n",
      "8\n",
      "10\n"
     ]
    }
   ],
   "source": [
    "\n",
    "#Q3. Iterator in Python\n",
    "#An iterator is an object that allows you to traverse through a container, such as a list, one element at a time. You need to initialize the iterator object with iter() and use the next() method to iterate.\n",
    "\n",
    "numbers = [2, 4, 6, 8, 10, 12, 14, 16, 18, 20]\n",
    "\n",
    "# Initialize iterator\n",
    "iterator = iter(numbers)\n",
    "\n",
    "# Print first five elements\n",
    "for _ in range(5):\n",
    "    print(next(iterator))"
   ]
  },
  {
   "cell_type": "code",
   "execution_count": 7,
   "id": "774958ad-a196-4942-b769-0b32fdb7c085",
   "metadata": {},
   "outputs": [
    {
     "name": "stdout",
     "output_type": "stream",
     "text": [
      "1\n",
      "2\n",
      "3\n",
      "4\n",
      "5\n"
     ]
    }
   ],
   "source": [
    "#Q4. Generator Function\n",
    "#A generator function in Python is a function that returns an iterator, which yields values one at a time using the yield keyword instead of return. yield allows the function to produce a series of values over time, rather than computing them all at once and sending them back.\n",
    "\n",
    "def count_up_to(max):\n",
    "    count = 1\n",
    "    while count <= max:\n",
    "        yield count\n",
    "        count += 1\n",
    "\n",
    "# Example usage\n",
    "counter = count_up_to(5)\n",
    "for num in counter:\n",
    "    print(num)"
   ]
  },
  {
   "cell_type": "code",
   "execution_count": 8,
   "id": "fa79f3c5-35a6-4f98-b0a5-8cb549a8e669",
   "metadata": {},
   "outputs": [
    {
     "name": "stdout",
     "output_type": "stream",
     "text": [
      "2\n",
      "3\n",
      "5\n",
      "7\n",
      "11\n",
      "13\n",
      "17\n",
      "19\n",
      "23\n",
      "29\n",
      "31\n",
      "37\n",
      "41\n",
      "43\n",
      "47\n",
      "53\n",
      "59\n",
      "61\n",
      "67\n",
      "71\n"
     ]
    }
   ],
   "source": [
    "#Q5. Generator Function for Prime Numbers\n",
    "#Here's a generator function that yields prime numbers less than 1000 and demonstrates how to use the next() method to print the first 20 prime numbers:\n",
    "\n",
    "def generate_primes():\n",
    "    def is_prime(n):\n",
    "        if n <= 1:\n",
    "            return False\n",
    "        for i in range(2, int(n**0.5) + 1):\n",
    "            if n % i == 0:\n",
    "                return False\n",
    "        return True\n",
    "\n",
    "    num = 2\n",
    "    while num < 1000:\n",
    "        if is_prime(num):\n",
    "            yield num\n",
    "        num += 1\n",
    "\n",
    "# Example usage\n",
    "prime_gen = generate_primes()\n",
    "for _ in range(20):\n",
    "    print(next(prime_gen))"
   ]
  },
  {
   "cell_type": "code",
   "execution_count": 9,
   "id": "3c0996d6-57a6-4c49-82a2-ebe0dfecad48",
   "metadata": {},
   "outputs": [
    {
     "name": "stdout",
     "output_type": "stream",
     "text": [
      "0 1 1 2 3 5 8 13 21 34 "
     ]
    }
   ],
   "source": [
    "#Q6. Fibonacci Sequence Using While Loop\n",
    "#Here's a Python program to print the first 10 Fibonacci numbers using a while loop:\n",
    "\n",
    "def fibonacci(n):\n",
    "    a, b = 0, 1\n",
    "    count = 0\n",
    "    while count < n:\n",
    "        print(a, end=' ')\n",
    "        a, b = b, a + b\n",
    "        count += 1\n",
    "\n",
    "# Example usage\n",
    "fibonacci(10)"
   ]
  },
  {
   "cell_type": "code",
   "execution_count": 10,
   "id": "0d056fa6-fdda-4467-bacd-5c71bf20dcf7",
   "metadata": {},
   "outputs": [
    {
     "name": "stdout",
     "output_type": "stream",
     "text": [
      "['p', 'w', 's', 'k', 'i', 'l', 'l', 's']\n"
     ]
    }
   ],
   "source": [
    "#Q7. List Comprehension for String\n",
    "#Here's a List Comprehension to iterate through the string 'pwskills':\n",
    "\n",
    "string = 'pwskills'\n",
    "result = [char for char in string]\n",
    "print(result)"
   ]
  },
  {
   "cell_type": "code",
   "execution_count": 11,
   "id": "e1647355-e8bf-41c9-8523-c89bb5ee99f9",
   "metadata": {},
   "outputs": [
    {
     "name": "stdout",
     "output_type": "stream",
     "text": [
      "True\n"
     ]
    }
   ],
   "source": [
    "#Q8. Check Palindrome Using While Loop\n",
    "#Here's a Python program to check whether a given number is a palindrome using a while loop:\n",
    "\n",
    "def is_palindrome(num):\n",
    "    original = num\n",
    "    reversed_num = 0\n",
    "    while num > 0:\n",
    "        digit = num % 10\n",
    "        reversed_num = reversed_num * 10 + digit\n",
    "        num //= 10\n",
    "    return original == reversed_num\n",
    "\n",
    "# Example usage\n",
    "number = 121\n",
    "print(is_palindrome(number))  # Output: True"
   ]
  },
  {
   "cell_type": "code",
   "execution_count": 12,
   "id": "9f933d5c-45f4-44ba-bfe1-d9eb2e1f97d0",
   "metadata": {},
   "outputs": [
    {
     "name": "stdout",
     "output_type": "stream",
     "text": [
      "[1, 3, 5, 7, 9, 11, 13, 15, 17, 19, 21, 23, 25, 27, 29, 31, 33, 35, 37, 39, 41, 43, 45, 47, 49, 51, 53, 55, 57, 59, 61, 63, 65, 67, 69, 71, 73, 75, 77, 79, 81, 83, 85, 87, 89, 91, 93, 95, 97, 99]\n"
     ]
    }
   ],
   "source": [
    "#Q9. Odd Numbers from 1 to 100 Using List Comprehension\n",
    "\n",
    "# Create a list from 1 to 100\n",
    "numbers = [i for i in range(1, 101)]\n",
    "\n",
    "# Filter out odd numbers\n",
    "odd_numbers = [num for num in numbers if num % 2 != 0]\n",
    "print(odd_numbers)\n"
   ]
  },
  {
   "cell_type": "code",
   "execution_count": null,
   "id": "2ee25548-f2ff-4dc5-b322-9af8060c2cc8",
   "metadata": {},
   "outputs": [],
   "source": []
  },
  {
   "cell_type": "code",
   "execution_count": null,
   "id": "390d05fa-a56c-49d1-8c3c-4a2a4659890c",
   "metadata": {},
   "outputs": [],
   "source": []
  },
  {
   "cell_type": "code",
   "execution_count": null,
   "id": "82384b89-4302-41f6-abaa-09b7d504a192",
   "metadata": {},
   "outputs": [],
   "source": []
  }
 ],
 "metadata": {
  "kernelspec": {
   "display_name": "Python 3 (ipykernel)",
   "language": "python",
   "name": "python3"
  },
  "language_info": {
   "codemirror_mode": {
    "name": "ipython",
    "version": 3
   },
   "file_extension": ".py",
   "mimetype": "text/x-python",
   "name": "python",
   "nbconvert_exporter": "python",
   "pygments_lexer": "ipython3",
   "version": "3.11.7"
  }
 },
 "nbformat": 4,
 "nbformat_minor": 5
}
